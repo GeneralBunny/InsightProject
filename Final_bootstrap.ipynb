{
 "cells": [
  {
   "cell_type": "code",
   "execution_count": 1,
   "metadata": {
    "collapsed": false
   },
   "outputs": [],
   "source": [
    "## Python packages - you may have to pip install sqlalchemy, sqlalchemy_utils, and psycopg2\n",
    "from sqlalchemy import create_engine\n",
    "import psycopg2\n",
    "import pandas as pd\n",
    "from pandas import pivot_table\n",
    "import matplotlib.pyplot as plt\n",
    "import numpy as np\n",
    "%matplotlib inline\n",
    "#from sklearn.linear_model import Lasso\n",
    "from sklearn.linear_model import LogisticRegression\n",
    "from sklearn.linear_model import LogisticRegressionCV\n",
    "from sklearn import metrics\n",
    "from sklearn.metrics import roc_auc_score, auc, roc_curve, make_scorer\n",
    "import seaborn as sns"
   ]
  },
  {
   "cell_type": "code",
   "execution_count": 2,
   "metadata": {
    "collapsed": false
   },
   "outputs": [],
   "source": [
    "#In Python: Define a database name, and your username for your computer\n",
    "dbname = 'wespire_app_data'\n",
    "username = 'xixibest'\n",
    "\n",
    "## 'engine' is a connection to a database\n",
    "engine = create_engine('postgres://%s@localhost/%s'%(username,dbname))\n",
    "\n",
    "# connect:\n",
    "con = None\n",
    "con = psycopg2.connect(database = dbname, user = username)"
   ]
  },
  {
   "cell_type": "code",
   "execution_count": 3,
   "metadata": {
    "collapsed": false
   },
   "outputs": [
    {
     "name": "stderr",
     "output_type": "stream",
     "text": [
      "/Users/xixibest/anaconda2/envs/my_projects_env/lib/python2.7/site-packages/ipykernel/__main__.py:17: SettingWithCopyWarning: \n",
      "A value is trying to be set on a copy of a slice from a DataFrame\n",
      "\n",
      "See the caveats in the documentation: http://pandas.pydata.org/pandas-docs/stable/indexing.html#indexing-view-versus-copy\n"
     ]
    },
    {
     "data": {
      "text/html": [
       "<div>\n",
       "<table border=\"1\" class=\"dataframe\">\n",
       "  <thead>\n",
       "    <tr style=\"text-align: right;\">\n",
       "      <th>name_reporting</th>\n",
       "      <th>Enjoy</th>\n",
       "      <th>Food</th>\n",
       "      <th>Giving</th>\n",
       "      <th>HR</th>\n",
       "      <th>Health &amp; Wellness</th>\n",
       "      <th>Home Improvement</th>\n",
       "      <th>How to use WeSpire</th>\n",
       "      <th>Learn</th>\n",
       "      <th>None</th>\n",
       "      <th>Office</th>\n",
       "      <th>Recycle</th>\n",
       "      <th>Reduce</th>\n",
       "      <th>Reuse</th>\n",
       "      <th>Social</th>\n",
       "      <th>Society</th>\n",
       "      <th>Sustainable Consumption</th>\n",
       "      <th>Transportation</th>\n",
       "      <th>Volunteering</th>\n",
       "      <th>All</th>\n",
       "      <th>user_id</th>\n",
       "    </tr>\n",
       "    <tr>\n",
       "      <th>user_id</th>\n",
       "      <th></th>\n",
       "      <th></th>\n",
       "      <th></th>\n",
       "      <th></th>\n",
       "      <th></th>\n",
       "      <th></th>\n",
       "      <th></th>\n",
       "      <th></th>\n",
       "      <th></th>\n",
       "      <th></th>\n",
       "      <th></th>\n",
       "      <th></th>\n",
       "      <th></th>\n",
       "      <th></th>\n",
       "      <th></th>\n",
       "      <th></th>\n",
       "      <th></th>\n",
       "      <th></th>\n",
       "      <th></th>\n",
       "      <th></th>\n",
       "    </tr>\n",
       "  </thead>\n",
       "  <tbody>\n",
       "    <tr>\n",
       "      <th>144</th>\n",
       "      <td>0.0</td>\n",
       "      <td>2.0</td>\n",
       "      <td>0.0</td>\n",
       "      <td>0.0</td>\n",
       "      <td>2.0</td>\n",
       "      <td>0.0</td>\n",
       "      <td>0.0</td>\n",
       "      <td>0.0</td>\n",
       "      <td>6.0</td>\n",
       "      <td>0.0</td>\n",
       "      <td>0.0</td>\n",
       "      <td>3.0</td>\n",
       "      <td>3.0</td>\n",
       "      <td>0.0</td>\n",
       "      <td>0.0</td>\n",
       "      <td>0.0</td>\n",
       "      <td>0.0</td>\n",
       "      <td>0.0</td>\n",
       "      <td>16.0</td>\n",
       "      <td>144</td>\n",
       "    </tr>\n",
       "    <tr>\n",
       "      <th>6148</th>\n",
       "      <td>1.0</td>\n",
       "      <td>0.0</td>\n",
       "      <td>0.0</td>\n",
       "      <td>0.0</td>\n",
       "      <td>1.0</td>\n",
       "      <td>2.0</td>\n",
       "      <td>0.0</td>\n",
       "      <td>1.0</td>\n",
       "      <td>1.0</td>\n",
       "      <td>3.0</td>\n",
       "      <td>0.0</td>\n",
       "      <td>7.0</td>\n",
       "      <td>7.0</td>\n",
       "      <td>0.0</td>\n",
       "      <td>0.0</td>\n",
       "      <td>0.0</td>\n",
       "      <td>0.0</td>\n",
       "      <td>0.0</td>\n",
       "      <td>23.0</td>\n",
       "      <td>6148</td>\n",
       "    </tr>\n",
       "    <tr>\n",
       "      <th>6171</th>\n",
       "      <td>0.0</td>\n",
       "      <td>0.0</td>\n",
       "      <td>0.0</td>\n",
       "      <td>0.0</td>\n",
       "      <td>2.0</td>\n",
       "      <td>0.0</td>\n",
       "      <td>0.0</td>\n",
       "      <td>0.0</td>\n",
       "      <td>0.0</td>\n",
       "      <td>1.0</td>\n",
       "      <td>0.0</td>\n",
       "      <td>1.0</td>\n",
       "      <td>1.0</td>\n",
       "      <td>0.0</td>\n",
       "      <td>0.0</td>\n",
       "      <td>0.0</td>\n",
       "      <td>0.0</td>\n",
       "      <td>0.0</td>\n",
       "      <td>5.0</td>\n",
       "      <td>6171</td>\n",
       "    </tr>\n",
       "    <tr>\n",
       "      <th>6172</th>\n",
       "      <td>0.0</td>\n",
       "      <td>0.0</td>\n",
       "      <td>0.0</td>\n",
       "      <td>0.0</td>\n",
       "      <td>0.0</td>\n",
       "      <td>0.0</td>\n",
       "      <td>0.0</td>\n",
       "      <td>0.0</td>\n",
       "      <td>7.0</td>\n",
       "      <td>0.0</td>\n",
       "      <td>0.0</td>\n",
       "      <td>0.0</td>\n",
       "      <td>0.0</td>\n",
       "      <td>0.0</td>\n",
       "      <td>0.0</td>\n",
       "      <td>0.0</td>\n",
       "      <td>0.0</td>\n",
       "      <td>0.0</td>\n",
       "      <td>7.0</td>\n",
       "      <td>6172</td>\n",
       "    </tr>\n",
       "    <tr>\n",
       "      <th>19846</th>\n",
       "      <td>0.0</td>\n",
       "      <td>0.0</td>\n",
       "      <td>0.0</td>\n",
       "      <td>0.0</td>\n",
       "      <td>0.0</td>\n",
       "      <td>0.0</td>\n",
       "      <td>0.0</td>\n",
       "      <td>0.0</td>\n",
       "      <td>17.0</td>\n",
       "      <td>0.0</td>\n",
       "      <td>0.0</td>\n",
       "      <td>0.0</td>\n",
       "      <td>0.0</td>\n",
       "      <td>0.0</td>\n",
       "      <td>0.0</td>\n",
       "      <td>0.0</td>\n",
       "      <td>0.0</td>\n",
       "      <td>0.0</td>\n",
       "      <td>17.0</td>\n",
       "      <td>19846</td>\n",
       "    </tr>\n",
       "  </tbody>\n",
       "</table>\n",
       "</div>"
      ],
      "text/plain": [
       "name_reporting  Enjoy  Food  Giving   HR  Health & Wellness  Home Improvement  \\\n",
       "user_id                                                                         \n",
       "144               0.0   2.0     0.0  0.0                2.0               0.0   \n",
       "6148              1.0   0.0     0.0  0.0                1.0               2.0   \n",
       "6171              0.0   0.0     0.0  0.0                2.0               0.0   \n",
       "6172              0.0   0.0     0.0  0.0                0.0               0.0   \n",
       "19846             0.0   0.0     0.0  0.0                0.0               0.0   \n",
       "\n",
       "name_reporting  How to use WeSpire  Learn  None  Office  Recycle  Reduce  \\\n",
       "user_id                                                                    \n",
       "144                            0.0    0.0   6.0     0.0      0.0     3.0   \n",
       "6148                           0.0    1.0   1.0     3.0      0.0     7.0   \n",
       "6171                           0.0    0.0   0.0     1.0      0.0     1.0   \n",
       "6172                           0.0    0.0   7.0     0.0      0.0     0.0   \n",
       "19846                          0.0    0.0  17.0     0.0      0.0     0.0   \n",
       "\n",
       "name_reporting  Reuse  Social  Society  Sustainable Consumption  \\\n",
       "user_id                                                           \n",
       "144               3.0     0.0      0.0                      0.0   \n",
       "6148              7.0     0.0      0.0                      0.0   \n",
       "6171              1.0     0.0      0.0                      0.0   \n",
       "6172              0.0     0.0      0.0                      0.0   \n",
       "19846             0.0     0.0      0.0                      0.0   \n",
       "\n",
       "name_reporting  Transportation  Volunteering   All user_id  \n",
       "user_id                                                     \n",
       "144                        0.0           0.0  16.0     144  \n",
       "6148                       0.0           0.0  23.0    6148  \n",
       "6171                       0.0           0.0   5.0    6171  \n",
       "6172                       0.0           0.0   7.0    6172  \n",
       "19846                      0.0           0.0  17.0   19846  "
      ]
     },
     "execution_count": 3,
     "metadata": {},
     "output_type": "execute_result"
    }
   ],
   "source": [
    "#Get the type of each action in March and April 2017 completed by the user.\n",
    "sql_query = \"\"\"\n",
    "SELECT scores.id, points,\n",
    "  scores.user_id,\n",
    "  scores.scorable_id,\n",
    "  scores.created_at,\n",
    "  categories.name_reporting\n",
    "FROM scores\n",
    "LEFT JOIN classifications ON classifications.categorizable_type = 'Act'\n",
    "AND classifications.categorizable_id = scores.scorable_id\n",
    "LEFT JOIN categories ON categories.id = classifications.category_id\n",
    "WHERE scorable_type = 'Act' AND scores.created_at >= '2017-03-01' AND scores.created_at <= '2017-04-30'\n",
    "\"\"\"\n",
    "user_Act = pd.read_sql_query(sql_query,con)\n",
    "#Data aggregation: get the number of actions on each type for each user.\n",
    "user_Act['dummy']=1\n",
    "user_Act.name_reporting[pd.isnull(user_Act['name_reporting'])]='None'\n",
    "table = pivot_table(user_Act, values='dummy', index=['user_id'],\n",
    "                   columns=['name_reporting'], aggfunc=np.sum, margins=True)\n",
    "table.fillna(value=0,inplace=True)\n",
    "table=pd.DataFrame(table)\n",
    "table['user_id'] = table.index\n",
    "table.sort_values(by='user_id').head()\n",
    "table.head()"
   ]
  },
  {
   "cell_type": "code",
   "execution_count": 4,
   "metadata": {
    "collapsed": false
   },
   "outputs": [
    {
     "data": {
      "image/png": "[encoded data removed]",
      "text/plain": [
       "<matplotlib.figure.Figure at 0x104d1d310>"
      ]
     },
     "metadata": {},
     "output_type": "display_data"
    }
   ],
   "source": [
    "#Get the total actions completed by each user.\n",
    "sql_query = \"\"\"\n",
    "SELECT user_id, count(*) FROM scores\n",
    "WHERE scorable_type = 'Act'\n",
    "AND scores.created_at >= '2017-03-01' AND scores.created_at <= '2017-04-30'\n",
    "GROUP BY user_id\n",
    "\"\"\"\n",
    "user_TotalAct = pd.read_sql_query(sql_query,con)\n",
    "user_TotalAct.rename(index=str, columns={\"user_id\": \"user_id\", \"count\": \"num_of_acts\"},inplace=True)\n",
    "ax = user_TotalAct.num_of_acts.hist(bins=100)\n",
    "ax.set_ylim(0,50)\n",
    "ax.set_xlabel('Number of Actions')\n",
    "ax.set_ylabel('Count')\n",
    "ax.grid(False)\n",
    "# for actions>3000, it is a bad user.\n",
    "baduser = user_TotalAct[user_TotalAct.num_of_acts >=3000]"
   ]
  },
  {
   "cell_type": "code",
   "execution_count": 5,
   "metadata": {
    "collapsed": false
   },
   "outputs": [
    {
     "data": {
      "text/html": [
       "<div>\n",
       "<table border=\"1\" class=\"dataframe\">\n",
       "  <thead>\n",
       "    <tr style=\"text-align: right;\">\n",
       "      <th></th>\n",
       "      <th>id</th>\n",
       "      <th>received_at</th>\n",
       "      <th>uuid</th>\n",
       "      <th>avatar</th>\n",
       "      <th>brand</th>\n",
       "      <th>brand_base_url</th>\n",
       "      <th>brand_logo</th>\n",
       "      <th>brand_program_name</th>\n",
       "      <th>campaign</th>\n",
       "      <th>context_group_id</th>\n",
       "      <th>...</th>\n",
       "      <th>team_2</th>\n",
       "      <th>team_2_id</th>\n",
       "      <th>team_3</th>\n",
       "      <th>team_3_id</th>\n",
       "      <th>team_4</th>\n",
       "      <th>team_4_id</th>\n",
       "      <th>team_5</th>\n",
       "      <th>team_5_id</th>\n",
       "      <th>team_6</th>\n",
       "      <th>team_6_id</th>\n",
       "    </tr>\n",
       "  </thead>\n",
       "  <tbody>\n",
       "    <tr>\n",
       "      <th>116453</th>\n",
       "      <td>a51e1ed0-b155-4c5d-8cf8-41e78ff40dca</td>\n",
       "      <td>2017-03-01 00:00:24.407</td>\n",
       "      <td>174883</td>\n",
       "      <td>https://res.cloudinary.com/hyetmyubn/image/upl...</td>\n",
       "      <td>MGM</td>\n",
       "      <td>https://greenadvantage.wespire.com</td>\n",
       "      <td>https://res.cloudinary.com/hyetmyubn/image/upl...</td>\n",
       "      <td>MGM Resorts My Green Advantage</td>\n",
       "      <td>NaN</td>\n",
       "      <td>39</td>\n",
       "      <td>...</td>\n",
       "      <td>NaN</td>\n",
       "      <td>NaN</td>\n",
       "      <td>NaN</td>\n",
       "      <td>NaN</td>\n",
       "      <td>NaN</td>\n",
       "      <td>NaN</td>\n",
       "      <td>NaN</td>\n",
       "      <td>NaN</td>\n",
       "      <td>NaN</td>\n",
       "      <td>NaN</td>\n",
       "    </tr>\n",
       "    <tr>\n",
       "      <th>116454</th>\n",
       "      <td>7074140a-9fc3-49d0-af47-a81870d68d9d</td>\n",
       "      <td>2017-03-01 00:00:56.787</td>\n",
       "      <td>174931</td>\n",
       "      <td>https://res.cloudinary.com/hyetmyubn/image/upl...</td>\n",
       "      <td>Timberland</td>\n",
       "      <td>https://makeitbetter.wespire.com</td>\n",
       "      <td>https://res.cloudinary.com/hyetmyubn/image/upl...</td>\n",
       "      <td>Make It Better</td>\n",
       "      <td>NaN</td>\n",
       "      <td>77</td>\n",
       "      <td>...</td>\n",
       "      <td>NaN</td>\n",
       "      <td>NaN</td>\n",
       "      <td>NaN</td>\n",
       "      <td>NaN</td>\n",
       "      <td>NaN</td>\n",
       "      <td>NaN</td>\n",
       "      <td>NaN</td>\n",
       "      <td>NaN</td>\n",
       "      <td>NaN</td>\n",
       "      <td>NaN</td>\n",
       "    </tr>\n",
       "    <tr>\n",
       "      <th>116455</th>\n",
       "      <td>bfc5ff67-831c-4432-857d-2a65c96576c3</td>\n",
       "      <td>2017-03-01 00:10:18.653</td>\n",
       "      <td>174901</td>\n",
       "      <td>https://res.cloudinary.com/hyetmyubn/image/upl...</td>\n",
       "      <td>MGM</td>\n",
       "      <td>https://greenadvantage.wespire.com</td>\n",
       "      <td>https://res.cloudinary.com/hyetmyubn/image/upl...</td>\n",
       "      <td>MGM Resorts My Green Advantage</td>\n",
       "      <td>NaN</td>\n",
       "      <td>39</td>\n",
       "      <td>...</td>\n",
       "      <td>NaN</td>\n",
       "      <td>NaN</td>\n",
       "      <td>NaN</td>\n",
       "      <td>NaN</td>\n",
       "      <td>NaN</td>\n",
       "      <td>NaN</td>\n",
       "      <td>NaN</td>\n",
       "      <td>NaN</td>\n",
       "      <td>NaN</td>\n",
       "      <td>NaN</td>\n",
       "    </tr>\n",
       "    <tr>\n",
       "      <th>116456</th>\n",
       "      <td>fc965a8b-83ef-4f33-a4e4-c6dcb999b1d8</td>\n",
       "      <td>2017-03-01 00:27:59.835</td>\n",
       "      <td>174927</td>\n",
       "      <td>https://res.cloudinary.com/hyetmyubn/image/upl...</td>\n",
       "      <td>MGM</td>\n",
       "      <td>https://greenadvantage.wespire.com</td>\n",
       "      <td>https://res.cloudinary.com/hyetmyubn/image/upl...</td>\n",
       "      <td>MGM Resorts My Green Advantage</td>\n",
       "      <td>NaN</td>\n",
       "      <td>39</td>\n",
       "      <td>...</td>\n",
       "      <td>NaN</td>\n",
       "      <td>NaN</td>\n",
       "      <td>NaN</td>\n",
       "      <td>NaN</td>\n",
       "      <td>NaN</td>\n",
       "      <td>NaN</td>\n",
       "      <td>NaN</td>\n",
       "      <td>NaN</td>\n",
       "      <td>NaN</td>\n",
       "      <td>NaN</td>\n",
       "    </tr>\n",
       "    <tr>\n",
       "      <th>116457</th>\n",
       "      <td>0513812a-151f-4042-aed8-c25002173301</td>\n",
       "      <td>2017-03-01 00:33:17.381</td>\n",
       "      <td>174929</td>\n",
       "      <td>https://res.cloudinary.com/hyetmyubn/image/upl...</td>\n",
       "      <td>MGM</td>\n",
       "      <td>https://greenadvantage.wespire.com</td>\n",
       "      <td>https://res.cloudinary.com/hyetmyubn/image/upl...</td>\n",
       "      <td>MGM Resorts My Green Advantage</td>\n",
       "      <td>NaN</td>\n",
       "      <td>39</td>\n",
       "      <td>...</td>\n",
       "      <td>NaN</td>\n",
       "      <td>NaN</td>\n",
       "      <td>NaN</td>\n",
       "      <td>NaN</td>\n",
       "      <td>NaN</td>\n",
       "      <td>NaN</td>\n",
       "      <td>NaN</td>\n",
       "      <td>NaN</td>\n",
       "      <td>NaN</td>\n",
       "      <td>NaN</td>\n",
       "    </tr>\n",
       "  </tbody>\n",
       "</table>\n",
       "<p>5 rows × 53 columns</p>\n",
       "</div>"
      ],
      "text/plain": [
       "                                          id              received_at    uuid  \\\n",
       "116453  a51e1ed0-b155-4c5d-8cf8-41e78ff40dca  2017-03-01 00:00:24.407  174883   \n",
       "116454  7074140a-9fc3-49d0-af47-a81870d68d9d  2017-03-01 00:00:56.787  174931   \n",
       "116455  bfc5ff67-831c-4432-857d-2a65c96576c3  2017-03-01 00:10:18.653  174901   \n",
       "116456  fc965a8b-83ef-4f33-a4e4-c6dcb999b1d8  2017-03-01 00:27:59.835  174927   \n",
       "116457  0513812a-151f-4042-aed8-c25002173301  2017-03-01 00:33:17.381  174929   \n",
       "\n",
       "                                                   avatar       brand  \\\n",
       "116453  https://res.cloudinary.com/hyetmyubn/image/upl...         MGM   \n",
       "116454  https://res.cloudinary.com/hyetmyubn/image/upl...  Timberland   \n",
       "116455  https://res.cloudinary.com/hyetmyubn/image/upl...         MGM   \n",
       "116456  https://res.cloudinary.com/hyetmyubn/image/upl...         MGM   \n",
       "116457  https://res.cloudinary.com/hyetmyubn/image/upl...         MGM   \n",
       "\n",
       "                            brand_base_url  \\\n",
       "116453  https://greenadvantage.wespire.com   \n",
       "116454    https://makeitbetter.wespire.com   \n",
       "116455  https://greenadvantage.wespire.com   \n",
       "116456  https://greenadvantage.wespire.com   \n",
       "116457  https://greenadvantage.wespire.com   \n",
       "\n",
       "                                               brand_logo  \\\n",
       "116453  https://res.cloudinary.com/hyetmyubn/image/upl...   \n",
       "116454  https://res.cloudinary.com/hyetmyubn/image/upl...   \n",
       "116455  https://res.cloudinary.com/hyetmyubn/image/upl...   \n",
       "116456  https://res.cloudinary.com/hyetmyubn/image/upl...   \n",
       "116457  https://res.cloudinary.com/hyetmyubn/image/upl...   \n",
       "\n",
       "                    brand_program_name campaign  context_group_id    ...     \\\n",
       "116453  MGM Resorts My Green Advantage      NaN                39    ...      \n",
       "116454                  Make It Better      NaN                77    ...      \n",
       "116455  MGM Resorts My Green Advantage      NaN                39    ...      \n",
       "116456  MGM Resorts My Green Advantage      NaN                39    ...      \n",
       "116457  MGM Resorts My Green Advantage      NaN                39    ...      \n",
       "\n",
       "       team_2 team_2_id team_3 team_3_id team_4  team_4_id team_5 team_5_id  \\\n",
       "116453    NaN       NaN    NaN       NaN    NaN        NaN    NaN       NaN   \n",
       "116454    NaN       NaN    NaN       NaN    NaN        NaN    NaN       NaN   \n",
       "116455    NaN       NaN    NaN       NaN    NaN        NaN    NaN       NaN   \n",
       "116456    NaN       NaN    NaN       NaN    NaN        NaN    NaN       NaN   \n",
       "116457    NaN       NaN    NaN       NaN    NaN        NaN    NaN       NaN   \n",
       "\n",
       "       team_6 team_6_id  \n",
       "116453    NaN       NaN  \n",
       "116454    NaN       NaN  \n",
       "116455    NaN       NaN  \n",
       "116456    NaN       NaN  \n",
       "116457    NaN       NaN  \n",
       "\n",
       "[5 rows x 53 columns]"
      ]
     },
     "execution_count": 5,
     "metadata": {},
     "output_type": "execute_result"
    }
   ],
   "source": [
    "#Get the user who has at least one more visit before March 2017.\n",
    "first_visit_today = pd.read_csv('first_visit_today.csv', low_memory=False)\n",
    "first_visit_today=pd.DataFrame(first_visit_today)\n",
    "#first_visit_today_1 the users who have logged in in March and April 2017.\n",
    "first_visit_today_1 = first_visit_today[(first_visit_today.timestamp >='2017-03-01') & \n",
    "                                          (first_visit_today.timestamp <= '2017-04-30')]\n",
    "# Find out the users with at least one visit before Feb, 2017\n",
    "OneVisit_befFeb = first_visit_today[first_visit_today.timestamp < '2017-02-28']\n",
    "visit = first_visit_today_1[first_visit_today_1.user_id.isin(OneVisit_befFeb.user_id)]\n",
    "visit.head()"
   ]
  },
  {
   "cell_type": "code",
   "execution_count": 6,
   "metadata": {
    "collapsed": false
   },
   "outputs": [
    {
     "data": {
      "text/html": [
       "<div>\n",
       "<table border=\"1\" class=\"dataframe\">\n",
       "  <thead>\n",
       "    <tr style=\"text-align: right;\">\n",
       "      <th></th>\n",
       "      <th>num_of_login</th>\n",
       "      <th>user_id</th>\n",
       "    </tr>\n",
       "    <tr>\n",
       "      <th>user_id</th>\n",
       "      <th></th>\n",
       "      <th></th>\n",
       "    </tr>\n",
       "  </thead>\n",
       "  <tbody>\n",
       "    <tr>\n",
       "      <th>144</th>\n",
       "      <td>21</td>\n",
       "      <td>144</td>\n",
       "    </tr>\n",
       "    <tr>\n",
       "      <th>6148</th>\n",
       "      <td>17</td>\n",
       "      <td>6148</td>\n",
       "    </tr>\n",
       "    <tr>\n",
       "      <th>6172</th>\n",
       "      <td>2</td>\n",
       "      <td>6172</td>\n",
       "    </tr>\n",
       "    <tr>\n",
       "      <th>16393</th>\n",
       "      <td>1</td>\n",
       "      <td>16393</td>\n",
       "    </tr>\n",
       "    <tr>\n",
       "      <th>19681</th>\n",
       "      <td>9</td>\n",
       "      <td>19681</td>\n",
       "    </tr>\n",
       "  </tbody>\n",
       "</table>\n",
       "</div>"
      ],
      "text/plain": [
       "         num_of_login  user_id\n",
       "user_id                       \n",
       "144                21      144\n",
       "6148               17     6148\n",
       "6172                2     6172\n",
       "16393               1    16393\n",
       "19681               9    19681"
      ]
     },
     "execution_count": 6,
     "metadata": {},
     "output_type": "execute_result"
    }
   ],
   "source": [
    "#user_login is the number of visits for each user.\n",
    "user_login = visit.groupby(visit['user_id'])['timestamp'].nunique()\n",
    "user_login = pd.DataFrame(user_login)\n",
    "user_login.columns = ['num_of_login']\n",
    "user_login['user_id']=user_login.index\n",
    "user_login.head()"
   ]
  },
  {
   "cell_type": "code",
   "execution_count": 7,
   "metadata": {
    "collapsed": false
   },
   "outputs": [
    {
     "data": {
      "text/html": [
       "<div>\n",
       "<table border=\"1\" class=\"dataframe\">\n",
       "  <thead>\n",
       "    <tr style=\"text-align: right;\">\n",
       "      <th></th>\n",
       "      <th>num_of_login</th>\n",
       "      <th>user_id</th>\n",
       "      <th>Enjoy</th>\n",
       "      <th>Food</th>\n",
       "      <th>Giving</th>\n",
       "      <th>HR</th>\n",
       "      <th>Health &amp; Wellness</th>\n",
       "      <th>Home Improvement</th>\n",
       "      <th>How to use WeSpire</th>\n",
       "      <th>Learn</th>\n",
       "      <th>...</th>\n",
       "      <th>Office</th>\n",
       "      <th>Recycle</th>\n",
       "      <th>Reduce</th>\n",
       "      <th>Reuse</th>\n",
       "      <th>Social</th>\n",
       "      <th>Society</th>\n",
       "      <th>Sustainable Consumption</th>\n",
       "      <th>Transportation</th>\n",
       "      <th>Volunteering</th>\n",
       "      <th>All</th>\n",
       "    </tr>\n",
       "  </thead>\n",
       "  <tbody>\n",
       "    <tr>\n",
       "      <th>0</th>\n",
       "      <td>21</td>\n",
       "      <td>144</td>\n",
       "      <td>0.0</td>\n",
       "      <td>2.0</td>\n",
       "      <td>0.0</td>\n",
       "      <td>0.0</td>\n",
       "      <td>2.0</td>\n",
       "      <td>0.0</td>\n",
       "      <td>0.0</td>\n",
       "      <td>0.0</td>\n",
       "      <td>...</td>\n",
       "      <td>0.0</td>\n",
       "      <td>0.0</td>\n",
       "      <td>3.0</td>\n",
       "      <td>3.0</td>\n",
       "      <td>0.0</td>\n",
       "      <td>0.0</td>\n",
       "      <td>0.0</td>\n",
       "      <td>0.0</td>\n",
       "      <td>0.0</td>\n",
       "      <td>16.0</td>\n",
       "    </tr>\n",
       "    <tr>\n",
       "      <th>1</th>\n",
       "      <td>17</td>\n",
       "      <td>6148</td>\n",
       "      <td>1.0</td>\n",
       "      <td>0.0</td>\n",
       "      <td>0.0</td>\n",
       "      <td>0.0</td>\n",
       "      <td>1.0</td>\n",
       "      <td>2.0</td>\n",
       "      <td>0.0</td>\n",
       "      <td>1.0</td>\n",
       "      <td>...</td>\n",
       "      <td>3.0</td>\n",
       "      <td>0.0</td>\n",
       "      <td>7.0</td>\n",
       "      <td>7.0</td>\n",
       "      <td>0.0</td>\n",
       "      <td>0.0</td>\n",
       "      <td>0.0</td>\n",
       "      <td>0.0</td>\n",
       "      <td>0.0</td>\n",
       "      <td>23.0</td>\n",
       "    </tr>\n",
       "    <tr>\n",
       "      <th>2</th>\n",
       "      <td>2</td>\n",
       "      <td>6172</td>\n",
       "      <td>0.0</td>\n",
       "      <td>0.0</td>\n",
       "      <td>0.0</td>\n",
       "      <td>0.0</td>\n",
       "      <td>0.0</td>\n",
       "      <td>0.0</td>\n",
       "      <td>0.0</td>\n",
       "      <td>0.0</td>\n",
       "      <td>...</td>\n",
       "      <td>0.0</td>\n",
       "      <td>0.0</td>\n",
       "      <td>0.0</td>\n",
       "      <td>0.0</td>\n",
       "      <td>0.0</td>\n",
       "      <td>0.0</td>\n",
       "      <td>0.0</td>\n",
       "      <td>0.0</td>\n",
       "      <td>0.0</td>\n",
       "      <td>7.0</td>\n",
       "    </tr>\n",
       "    <tr>\n",
       "      <th>5</th>\n",
       "      <td>12</td>\n",
       "      <td>19846</td>\n",
       "      <td>0.0</td>\n",
       "      <td>0.0</td>\n",
       "      <td>0.0</td>\n",
       "      <td>0.0</td>\n",
       "      <td>0.0</td>\n",
       "      <td>0.0</td>\n",
       "      <td>0.0</td>\n",
       "      <td>0.0</td>\n",
       "      <td>...</td>\n",
       "      <td>0.0</td>\n",
       "      <td>0.0</td>\n",
       "      <td>0.0</td>\n",
       "      <td>0.0</td>\n",
       "      <td>0.0</td>\n",
       "      <td>0.0</td>\n",
       "      <td>0.0</td>\n",
       "      <td>0.0</td>\n",
       "      <td>0.0</td>\n",
       "      <td>17.0</td>\n",
       "    </tr>\n",
       "    <tr>\n",
       "      <th>6</th>\n",
       "      <td>20</td>\n",
       "      <td>23180</td>\n",
       "      <td>0.0</td>\n",
       "      <td>0.0</td>\n",
       "      <td>0.0</td>\n",
       "      <td>0.0</td>\n",
       "      <td>1.0</td>\n",
       "      <td>0.0</td>\n",
       "      <td>0.0</td>\n",
       "      <td>0.0</td>\n",
       "      <td>...</td>\n",
       "      <td>1.0</td>\n",
       "      <td>0.0</td>\n",
       "      <td>2.0</td>\n",
       "      <td>2.0</td>\n",
       "      <td>0.0</td>\n",
       "      <td>0.0</td>\n",
       "      <td>0.0</td>\n",
       "      <td>0.0</td>\n",
       "      <td>0.0</td>\n",
       "      <td>6.0</td>\n",
       "    </tr>\n",
       "  </tbody>\n",
       "</table>\n",
       "<p>5 rows × 21 columns</p>\n",
       "</div>"
      ],
      "text/plain": [
       "   num_of_login  user_id  Enjoy  Food  Giving   HR  Health & Wellness  \\\n",
       "0            21      144    0.0   2.0     0.0  0.0                2.0   \n",
       "1            17     6148    1.0   0.0     0.0  0.0                1.0   \n",
       "2             2     6172    0.0   0.0     0.0  0.0                0.0   \n",
       "5            12    19846    0.0   0.0     0.0  0.0                0.0   \n",
       "6            20    23180    0.0   0.0     0.0  0.0                1.0   \n",
       "\n",
       "   Home Improvement  How to use WeSpire  Learn  ...   Office  Recycle  Reduce  \\\n",
       "0               0.0                 0.0    0.0  ...      0.0      0.0     3.0   \n",
       "1               2.0                 0.0    1.0  ...      3.0      0.0     7.0   \n",
       "2               0.0                 0.0    0.0  ...      0.0      0.0     0.0   \n",
       "5               0.0                 0.0    0.0  ...      0.0      0.0     0.0   \n",
       "6               0.0                 0.0    0.0  ...      1.0      0.0     2.0   \n",
       "\n",
       "   Reuse  Social  Society  Sustainable Consumption  Transportation  \\\n",
       "0    3.0     0.0      0.0                      0.0             0.0   \n",
       "1    7.0     0.0      0.0                      0.0             0.0   \n",
       "2    0.0     0.0      0.0                      0.0             0.0   \n",
       "5    0.0     0.0      0.0                      0.0             0.0   \n",
       "6    2.0     0.0      0.0                      0.0             0.0   \n",
       "\n",
       "   Volunteering   All  \n",
       "0           0.0  16.0  \n",
       "1           0.0  23.0  \n",
       "2           0.0   7.0  \n",
       "5           0.0  17.0  \n",
       "6           0.0   6.0  \n",
       "\n",
       "[5 rows x 21 columns]"
      ]
     },
     "execution_count": 7,
     "metadata": {},
     "output_type": "execute_result"
    }
   ],
   "source": [
    "#Merge user_login with table to get user's action type.\n",
    "user = pd.DataFrame()\n",
    "user = user_login.merge(table, how = 'left', on = 'user_id')\n",
    "user.fillna(0,inplace=True)\n",
    "#Remove the bad users.\n",
    "user_good = user[~(user.user_id.isin(baduser.user_id))]\n",
    "#Remove the users whose actions do not go into categories.\n",
    "user_good_2 = user_good[~(user_good.All==0)]\n",
    "user_good_2.head()"
   ]
  },
  {
   "cell_type": "code",
   "execution_count": 8,
   "metadata": {
    "collapsed": false
   },
   "outputs": [
    {
     "data": {
      "text/plain": [
       "0.50    3.0\n",
       "0.75    6.0\n",
       "0.85    9.0\n",
       "Name: num_of_login, dtype: float64"
      ]
     },
     "execution_count": 8,
     "metadata": {},
     "output_type": "execute_result"
    }
   ],
   "source": [
    "user_good_2['num_of_login'].quantile([0.5,0.75,0.85])"
   ]
  },
  {
   "cell_type": "code",
   "execution_count": 9,
   "metadata": {
    "collapsed": false
   },
   "outputs": [
    {
     "name": "stderr",
     "output_type": "stream",
     "text": [
      "/Users/xixibest/anaconda2/envs/my_projects_env/lib/python2.7/site-packages/ipykernel/__main__.py:2: SettingWithCopyWarning: \n",
      "A value is trying to be set on a copy of a slice from a DataFrame.\n",
      "Try using .loc[row_indexer,col_indexer] = value instead\n",
      "\n",
      "See the caveats in the documentation: http://pandas.pydata.org/pandas-docs/stable/indexing.html#indexing-view-versus-copy\n",
      "  from ipykernel import kernelapp as app\n"
     ]
    }
   ],
   "source": [
    "#Define active = 1 if num_of_login is larger than 9, the 0.85 quantile.\n",
    "user_good_2['Engagement']=np.where(user_good_2.num_of_login >=9, 1, 0)"
   ]
  },
  {
   "cell_type": "code",
   "execution_count": 10,
   "metadata": {
    "collapsed": false
   },
   "outputs": [
    {
     "data": {
      "image/png": "[encoded data removed]",
      "text/plain": [
       "<matplotlib.figure.Figure at 0x114822150>"
      ]
     },
     "metadata": {},
     "output_type": "display_data"
    }
   ],
   "source": [
    "ax = user_good_2.num_of_login.hist(bins=max(user_good_2.num_of_login),figsize=(4,4))\n",
    "ax.set_xlabel('Number of days in platform within 60 days')\n",
    "ax.set_ylabel('Counts')\n",
    "ax.grid(False)"
   ]
  },
  {
   "cell_type": "code",
   "execution_count": 11,
   "metadata": {
    "collapsed": false
   },
   "outputs": [
    {
     "data": {
      "image/png": "[encoded data removed]",
      "text/plain": [
       "<matplotlib.figure.Figure at 0x11164c3d0>"
      ]
     },
     "metadata": {},
     "output_type": "display_data"
    }
   ],
   "source": [
    "values, base = np.histogram(user_good_2.num_of_login,bins=user_good_2.num_of_login.max())\n",
    "#evaluate the cumulative\n",
    "cumulative = np.cumsum(values)\n",
    "cumulative_norm = cumulative*1.0/cumulative[-1]\n",
    "# plot the cumulative function\n",
    "#plt.plot(base[:-1], cumulative, c='blue')\n",
    "#plt.xlable \n",
    "#plt.show()\n",
    "\n",
    "cumulative_norm=pd.DataFrame(cumulative_norm)\n",
    "ax = cumulative_norm.plot(use_index=True,figsize=(6,3))\n",
    "\n",
    "ax.set_xlabel('Days of Visits')\n",
    "ax.set_ylabel('CDF')\n",
    "ax.legend_.remove()\n",
    "ax.grid(False)"
   ]
  },
  {
   "cell_type": "code",
   "execution_count": 12,
   "metadata": {
    "collapsed": false
   },
   "outputs": [
    {
     "data": {
      "text/plain": [
       "<matplotlib.axes._subplots.AxesSubplot at 0x111952950>"
      ]
     },
     "execution_count": 12,
     "metadata": {},
     "output_type": "execute_result"
    },
    {
     "data": {
      "image/png": "[encoded data removed]",
      "text/plain": [
       "<matplotlib.figure.Figure at 0x111e57b50>"
      ]
     },
     "metadata": {},
     "output_type": "display_data"
    }
   ],
   "source": [
    "# get X and y from table\n",
    "X, y = user_good_2.ix[:,'Enjoy':'Volunteering'], user_good_2.ix[:,'Engagement']\n",
    "\n",
    "y=pd.DataFrame(y, columns = ['Engagement'])\n",
    "\n",
    "corr = X.corr()\n",
    "\n",
    "# Generate a mask for the upper triangle\n",
    "sns.set(style=\"white\")\n",
    "mask = np.zeros_like(corr, dtype=np.bool)\n",
    "mask[np.triu_indices_from(mask)] = True\n",
    "\n",
    "# Set up the matplotlib figure\n",
    "f, ax = plt.subplots(figsize=(11, 9))\n",
    "\n",
    "# Generate a custom diverging colormap\n",
    "cmap = sns.diverging_palette(220, 10, as_cmap=True)\n",
    "#sns.heatmap(corr, mask=mask, cmap=cmap, vmax=.3,\n",
    "#            square=True, xticklabels=5, yticklabels=5,\n",
    "#            linewidths=.5, cbar_kws={\"shrink\": .5}, ax=ax)\n",
    "sns.heatmap(corr, mask=mask, vmax=1.0, square=True)"
   ]
  },
  {
   "cell_type": "code",
   "execution_count": 13,
   "metadata": {
    "collapsed": false
   },
   "outputs": [
    {
     "name": "stderr",
     "output_type": "stream",
     "text": [
      "/Users/xixibest/anaconda2/envs/my_projects_env/lib/python2.7/site-packages/ipykernel/__main__.py:2: FutureWarning: order is deprecated, use sort_values(...)\n",
      "  from ipykernel import kernelapp as app\n"
     ]
    },
    {
     "data": {
      "text/plain": [
       "Home Improvement         Reduce                     0.960183\n",
       "Reuse                    Home Improvement           0.965938\n",
       "Home Improvement         Reuse                      0.965938\n",
       "Reduce                   Reuse                      0.998055\n",
       "Reuse                    Reduce                     0.998055\n",
       "Enjoy                    Enjoy                      1.000000\n",
       "Sustainable Consumption  Sustainable Consumption    1.000000\n",
       "Food                     Food                       1.000000\n",
       "Giving                   Giving                     1.000000\n",
       "HR                       HR                         1.000000\n",
       "Health & Wellness        Health & Wellness          1.000000\n",
       "Home Improvement         Home Improvement           1.000000\n",
       "How to use WeSpire       How to use WeSpire         1.000000\n",
       "dtype: float64"
      ]
     },
     "execution_count": 13,
     "metadata": {},
     "output_type": "execute_result"
    }
   ],
   "source": [
    "s = corr.unstack()\n",
    "so = s.order(kind=\"quicksort\")\n",
    "#len(s)\n",
    "so[len(so)-23:len(so)-10]\n",
    "#so = s.order(kind=\"quicksort\")"
   ]
  },
  {
   "cell_type": "code",
   "execution_count": 14,
   "metadata": {
    "collapsed": false
   },
   "outputs": [
    {
     "data": {
      "text/plain": [
       "<matplotlib.axes._subplots.AxesSubplot at 0x112aec7d0>"
      ]
     },
     "execution_count": 14,
     "metadata": {},
     "output_type": "execute_result"
    },
    {
     "data": {
      "image/png": "[encoded data removed]",
      "text/plain": [
       "<matplotlib.figure.Figure at 0x113009bd0>"
      ]
     },
     "metadata": {},
     "output_type": "display_data"
    }
   ],
   "source": [
    "#Remove the highly correlated ones\n",
    "user_good_decorr = user_good_2.drop(['Food', 'Reduce','Reuse','Enjoy','Giving'], axis=1)\n",
    "\n",
    "X_decorr, y = user_good_decorr.ix[:,'HR':'Volunteering'], user_good_decorr.ix[:,'Engagement']\n",
    "corr = X_decorr.corr()\n",
    "\n",
    "# Generate a mask for the upper triangle\n",
    "sns.set(style=\"white\")\n",
    "mask = np.zeros_like(corr, dtype=np.bool)\n",
    "mask[np.triu_indices_from(mask)] = True\n",
    "\n",
    "# Set up the matplotlib figure\n",
    "f, ax = plt.subplots(figsize=(11, 9))\n",
    "\n",
    "# Generate a custom diverging colormap\n",
    "cmap = sns.diverging_palette(220, 10, as_cmap=True)\n",
    "#sns.heatmap(corr, mask=mask, cmap=cmap, vmax=.3,\n",
    "#            square=True, xticklabels=5, yticklabels=5,\n",
    "#            linewidths=.5, cbar_kws={\"shrink\": .5}, ax=ax)\n",
    "sns.heatmap(corr, mask=mask, vmax=1.0, square=True)"
   ]
  },
  {
   "cell_type": "code",
   "execution_count": 15,
   "metadata": {
    "collapsed": false
   },
   "outputs": [
    {
     "name": "stdout",
     "output_type": "stream",
     "text": [
      "<class 'pandas.core.frame.DataFrame'>\n",
      "Int64Index: 4339 entries, 1945 to 3829\n",
      "Data columns (total 13 columns):\n",
      "HR                         4339 non-null float64\n",
      "Health & Wellness          4339 non-null float64\n",
      "Home Improvement           4339 non-null float64\n",
      "How to use WeSpire         4339 non-null float64\n",
      "Learn                      4339 non-null float64\n",
      "None                       4339 non-null float64\n",
      "Office                     4339 non-null float64\n",
      "Recycle                    4339 non-null float64\n",
      "Social                     4339 non-null float64\n",
      "Society                    4339 non-null float64\n",
      "Sustainable Consumption    4339 non-null float64\n",
      "Transportation             4339 non-null float64\n",
      "Volunteering               4339 non-null float64\n",
      "dtypes: float64(13)\n",
      "memory usage: 474.6 KB\n",
      "<class 'pandas.core.frame.DataFrame'>\n",
      "Int64Index: 1085 entries, 3718 to 4937\n",
      "Data columns (total 1 columns):\n",
      "0    1085 non-null int64\n",
      "dtypes: int64(1)\n",
      "memory usage: 17.0 KB\n"
     ]
    }
   ],
   "source": [
    "# Over sampling Engagement = 1 data\n",
    "from imblearn.under_sampling import RandomUnderSampler \n",
    "from imblearn.over_sampling import RandomOverSampler\n",
    "\n",
    "Over = RandomOverSampler(random_state=50, ratio = 'auto')\n",
    "X_res, y_res= Over.fit_sample(X_decorr, y)\n",
    "X_res = pd.DataFrame(X_res)\n",
    "X_res.columns = list(X_decorr)\n",
    "\n",
    "y_res = pd.DataFrame(y_res)\n",
    "\n",
    "#Run Logistic Regression on the balanced data\n",
    "from sklearn.model_selection import train_test_split\n",
    "\n",
    "X_train, X_test, y_train, y_test = train_test_split(X_res, y_res, test_size=0.20,random_state=15)\n",
    "X_train = pd.DataFrame(X_train)\n",
    "X_test = pd.DataFrame(X_test)\n",
    "y_train = pd.DataFrame(y_train)\n",
    "y_test = pd.DataFrame(y_test)\n",
    "X_train.info()\n",
    "y_test.info()"
   ]
  },
  {
   "cell_type": "code",
   "execution_count": 16,
   "metadata": {
    "collapsed": false
   },
   "outputs": [
    {
     "name": "stderr",
     "output_type": "stream",
     "text": [
      "/Users/xixibest/anaconda2/envs/my_projects_env/lib/python2.7/site-packages/sklearn/utils/validation.py:526: DataConversionWarning: A column-vector y was passed when a 1d array was expected. Please change the shape of y to (n_samples, ), for example using ravel().\n",
      "  y = column_or_1d(y, warn=True)\n"
     ]
    },
    {
     "data": {
      "text/plain": [
       "(-0.050000000000000003, 1.05, -0.048048327137546476, 1.049907063197026)"
      ]
     },
     "execution_count": 16,
     "metadata": {},
     "output_type": "execute_result"
    },
    {
     "data": {
      "image/png": "[encoded data removed]",
      "text/plain": [
       "<matplotlib.figure.Figure at 0x116387950>"
      ]
     },
     "metadata": {},
     "output_type": "display_data"
    }
   ],
   "source": [
    "log_CV = LogisticRegressionCV(class_weight='balanced', cv=10, Cs = 100, \n",
    "                              penalty='l2', scoring=None, solver='lbfgs', refit = True,\n",
    "                              dual=False)\n",
    "logCV = log_CV.fit(X_train,y_train)\n",
    "\n",
    "y_pred_logCV_prob = logCV.predict_proba(X_test)\n",
    "\n",
    "fpr, tpr, threshold = metrics.roc_curve(y_test, y_pred_logCV_prob[:,1])\n",
    "roc_auc= auc(fpr, tpr)\n",
    "roc_auc\n",
    "plt.plot(fpr, tpr, label ='ROC curve (area = %f)'%roc_auc)\n",
    "plt.xlabel('False Positive Rate (fpr)')\n",
    "plt.ylabel('True Positive Rate (tpr)')\n",
    "plt.legend(loc=\"lower right\")\n",
    "plt.axis('scaled')"
   ]
  },
  {
   "cell_type": "code",
   "execution_count": 17,
   "metadata": {
    "collapsed": false
   },
   "outputs": [
    {
     "data": {
      "text/plain": [
       "(array([180, 181, 182, 183, 184, 185, 186, 187]),)"
      ]
     },
     "execution_count": 17,
     "metadata": {},
     "output_type": "execute_result"
    }
   ],
   "source": [
    "np.where(np.around(tpr, 2)==0.6)"
   ]
  },
  {
   "cell_type": "code",
   "execution_count": 18,
   "metadata": {
    "collapsed": false
   },
   "outputs": [
    {
     "data": {
      "text/plain": [
       "0.43837573121959555"
      ]
     },
     "execution_count": 18,
     "metadata": {},
     "output_type": "execute_result"
    }
   ],
   "source": [
    "threshold[180]"
   ]
  },
  {
   "cell_type": "code",
   "execution_count": 19,
   "metadata": {
    "collapsed": true
   },
   "outputs": [],
   "source": [
    "y_pred_logCV = np.where(y_pred_logCV_prob[:,1] > 0.44, 1, 0)"
   ]
  },
  {
   "cell_type": "code",
   "execution_count": 20,
   "metadata": {
    "collapsed": false
   },
   "outputs": [
    {
     "data": {
      "text/plain": [
       "array([ 0.14174742])"
      ]
     },
     "execution_count": 20,
     "metadata": {},
     "output_type": "execute_result"
    }
   ],
   "source": [
    "logCV.C_"
   ]
  },
  {
   "cell_type": "code",
   "execution_count": 21,
   "metadata": {
    "collapsed": false
   },
   "outputs": [
    {
     "data": {
      "text/plain": [
       "array([[459,  88],\n",
       "       [218, 320]])"
      ]
     },
     "execution_count": 21,
     "metadata": {},
     "output_type": "execute_result"
    }
   ],
   "source": [
    "metrics.confusion_matrix(y_test, y_pred_logCV)"
   ]
  },
  {
   "cell_type": "code",
   "execution_count": 38,
   "metadata": {
    "collapsed": false
   },
   "outputs": [
    {
     "data": {
      "image/png": "[encoded data removed]",
      "text/plain": [
       "<matplotlib.figure.Figure at 0x1163b1390>"
      ]
     },
     "metadata": {},
     "output_type": "display_data"
    }
   ],
   "source": [
    "plt.matshow(metrics.confusion_matrix(y_test, y_pred_logCV), cmap=plt.cm.binary, interpolation='nearest')\n",
    "plt.title('confusion matrix')\n",
    "plt.colorbar()\n",
    "plt.ylabel('Ture label')\n",
    "plt.xlabel('Predicted label')\n",
    "plt.show()"
   ]
  },
  {
   "cell_type": "code",
   "execution_count": 23,
   "metadata": {
    "collapsed": false
   },
   "outputs": [
    {
     "data": {
      "text/plain": [
       "0.71797235023041472"
      ]
     },
     "execution_count": 23,
     "metadata": {},
     "output_type": "execute_result"
    }
   ],
   "source": [
    "metrics.accuracy_score(y_test, y_pred_logCV)"
   ]
  },
  {
   "cell_type": "code",
   "execution_count": 24,
   "metadata": {
    "collapsed": false
   },
   "outputs": [
    {
     "name": "stdout",
     "output_type": "stream",
     "text": [
      "                         Feature_Coefficient                  Feature\n",
      "Feature                                                              \n",
      "Transportation                     -0.294248           Transportation\n",
      "HR                                 -0.233043                       HR\n",
      "Society                            -0.161561                  Society\n",
      "Sustainable Consumption            -0.072950  Sustainable Consumption\n",
      "Learn                              -0.052527                    Learn\n",
      "Recycle                            -0.036811                  Recycle\n",
      "Office                             -0.018824                   Office\n",
      "Home Improvement                    0.001997         Home Improvement\n",
      "None                                0.007559                     None\n",
      "Social                              0.011277                   Social\n",
      "How to use WeSpire                  0.063741       How to use WeSpire\n",
      "Health & Wellness                   0.069816        Health & Wellness\n",
      "Volunteering                        0.222584             Volunteering\n"
     ]
    }
   ],
   "source": [
    "coef = (logCV.coef_).transpose()\n",
    "#coef = (logCV.coef_* DataRange).transpose()\n",
    "coef = pd.DataFrame(coef)\n",
    "coef.columns = ['Feature_Coefficient']\n",
    "coef['Feature'] = list(X_train)\n",
    "coef = coef.sort_values(by='Feature_Coefficient')\n",
    "coef.set_index('Feature',inplace=True,drop=False)\n",
    "print coef"
   ]
  },
  {
   "cell_type": "code",
   "execution_count": 25,
   "metadata": {
    "collapsed": false
   },
   "outputs": [
    {
     "data": {
      "text/plain": [
       "<matplotlib.text.Text at 0x11763c250>"
      ]
     },
     "execution_count": 25,
     "metadata": {},
     "output_type": "execute_result"
    },
    {
     "data": {
      "image/png": "[encoded data removed]",
      "text/plain": [
       "<matplotlib.figure.Figure at 0x116b6d510>"
      ]
     },
     "metadata": {},
     "output_type": "display_data"
    }
   ],
   "source": [
    "ax = coef.plot(kind='barh',use_index=True)\n",
    "ax.set_yticklabels(coef.Feature)\n",
    "ax.legend(['coefficient'])\n",
    "ax.legend_.remove()\n",
    "ax.set_xlabel('Coefficient')\n",
    "ax.set_ylabel('')"
   ]
  },
  {
   "cell_type": "code",
   "execution_count": 27,
   "metadata": {
    "collapsed": false
   },
   "outputs": [],
   "source": [
    "# Over sampling Engagement = 1 data and boostrap the data (50 times)\n",
    "from imblearn.under_sampling import RandomUnderSampler \n",
    "from imblearn.over_sampling import RandomOverSampler\n",
    "from sklearn.model_selection import train_test_split\n",
    "\n",
    "accuracy = []\n",
    "aucRoc = []\n",
    "randomNumber = []\n",
    "coefList = []\n",
    "# bootstrap the data\n",
    "for i in range(50):\n",
    "    Over = RandomOverSampler(ratio = 'auto')\n",
    "    X_res, y_res= Over.fit_sample(X_decorr, y)\n",
    "    X_res = pd.DataFrame(X_res)\n",
    "    X_res.columns = list(X_decorr)\n",
    "#Run Logistic Regression on the balanced data\n",
    "    y_res = pd.DataFrame(y_res)\n",
    "    X_train, X_test, y_train, y_test = train_test_split(X_res, y_res, test_size=0.20, random_state = 15)\n",
    "    X_train = pd.DataFrame(X_train)\n",
    "    X_test = pd.DataFrame(X_test)\n",
    "    y_train = pd.DataFrame(y_train)\n",
    "    y_test = pd.DataFrame(y_test)\n",
    "    log_CV = LogisticRegressionCV(class_weight='balanced', cv=10, Cs = 100, \n",
    "                              penalty='l2', scoring=None, solver='lbfgs', refit = True,\n",
    "                              dual=False)\n",
    "    logCV = log_CV.fit(X_train,y_train)\n",
    "\n",
    "    y_pred_logCV_prob = logCV.predict_proba(X_test)\n",
    "    y_pred_logCV = np.where(y_pred_logCV_prob[:,1] > 0.44, 1, 0)\n",
    "    fpr, tpr, threshold = metrics.roc_curve(y_test, y_pred_logCV_prob[:,1])\n",
    "    randomNumber.append(Over.get_params)\n",
    "    accuracy.append(metrics.accuracy_score(y_test, y_pred_logCV))\n",
    "    aucRoc.append(auc(fpr, tpr))\n",
    "    coef = (logCV.coef_).transpose()\n",
    "    coef = pd.DataFrame(coef)\n",
    "    coef.columns = ['Feature_Coefficient']\n",
    "    coef['Feature'] = list(X_train)\n",
    "    coef = coef.sort_values(by='Feature_Coefficient')\n",
    "    coef.set_index('Feature',inplace=True,drop=False)\n",
    "    coefList.append(coef)\n"
   ]
  },
  {
   "cell_type": "code",
   "execution_count": 32,
   "metadata": {
    "collapsed": false
   },
   "outputs": [
    {
     "name": "stdout",
     "output_type": "stream",
     "text": [
      "The averaged accurayc is 0.701659\n"
     ]
    },
    {
     "data": {
      "image/png": "[encoded data removed]",
      "text/plain": [
       "<matplotlib.figure.Figure at 0x1165bcd90>"
      ]
     },
     "metadata": {},
     "output_type": "display_data"
    }
   ],
   "source": [
    "accuracy = pd.DataFrame(accuracy)\n",
    "ax = accuracy.hist(bins = 10, xlabelsize=25, ylabelsize = 25,figsize = (10,10))\n",
    "\n",
    "print (\"The averaged accurayc is %f\") % accuracy.mean()"
   ]
  },
  {
   "cell_type": "code",
   "execution_count": 35,
   "metadata": {
    "collapsed": false
   },
   "outputs": [
    {
     "name": "stdout",
     "output_type": "stream",
     "text": [
      "The averaged AUC is 0.741191\n"
     ]
    },
    {
     "data": {
      "image/png": "[encoded data removed]",
      "text/plain": [
       "<matplotlib.figure.Figure at 0x111195890>"
      ]
     },
     "metadata": {},
     "output_type": "display_data"
    }
   ],
   "source": [
    "aucRoc = pd.DataFrame(aucRoc)\n",
    "aucRoc.hist(bins=10, figsize=(10,10), xlabelsize=25, ylabelsize = 25)\n",
    "print (\"The averaged AUC is %f\") % aucRoc.mean()"
   ]
  },
  {
   "cell_type": "code",
   "execution_count": 36,
   "metadata": {
    "collapsed": false
   },
   "outputs": [],
   "source": [
    "Volunteering = []\n",
    "for i in range(50):\n",
    "    Volunteering.append(coefList[i][coefList[i].Feature == 'Volunteering'].Feature_Coefficient)\n",
    "    \n",
    "HW = []\n",
    "for i in range(50):\n",
    "    HW.append(coefList[i][coefList[i].Feature == 'Health & Wellness'].Feature_Coefficient)\n",
    "    \n",
    "How = []\n",
    "for i in range(50):\n",
    "    How.append(coefList[i][coefList[i].Feature == 'How to use WeSpire'].Feature_Coefficient)\n",
    "    \n",
    "Social = []\n",
    "for i in range(50):\n",
    "    Social.append(coefList[i][coefList[i].Feature == 'Social'].Feature_Coefficient)\n",
    "    \n",
    "NONE = []\n",
    "for i in range(50):\n",
    "    NONE.append(coefList[i][coefList[i].Feature == 'None'].Feature_Coefficient)\n",
    "    \n",
    "Home = []\n",
    "for i in range(50):\n",
    "    Home.append(coefList[i][coefList[i].Feature == 'Home Improvement'].Feature_Coefficient)\n",
    "    \n",
    "Office = []\n",
    "for i in range(50):\n",
    "    Office.append(coefList[i][coefList[i].Feature == 'Office'].Feature_Coefficient)\n",
    "    \n",
    "Recycle = []\n",
    "for i in range(50):\n",
    "    Recycle.append(coefList[i][coefList[i].Feature == 'Recycle'].Feature_Coefficient)\n",
    "    \n",
    "Learn = []\n",
    "for i in range(50):\n",
    "    Learn.append(coefList[i][coefList[i].Feature == 'Learn'].Feature_Coefficient)\n",
    "    \n",
    "Sus = []\n",
    "for i in range(50):\n",
    "    Sus.append(coefList[i][coefList[i].Feature == 'Sustainable Consumption'].Feature_Coefficient)\n",
    "    \n",
    "Society = []\n",
    "for i in range(50):\n",
    "    Society.append(coefList[i][coefList[i].Feature == 'Society'].Feature_Coefficient)\n",
    "\n",
    "HR = []\n",
    "for i in range(50):\n",
    "    HR.append(coefList[i][coefList[i].Feature == 'HR'].Feature_Coefficient)\n",
    "    \n",
    "Transportation = []\n",
    "for i in range(50):\n",
    "    Transportation.append(coefList[i][coefList[i].Feature == 'Transportation'].Feature_Coefficient)"
   ]
  },
  {
   "cell_type": "code",
   "execution_count": 37,
   "metadata": {
    "collapsed": false
   },
   "outputs": [
    {
     "name": "stdout",
     "output_type": "stream",
     "text": [
      "[-0.33131280322062456, -0.2122331585166117, -0.11959460130907401, -0.091171818838490598, -0.060458645803594627, -0.060594246622852149, -0.010075611705777223, 0.0016420893356436505, 0.0076883001766046514, 0.012307672777246774, 0.073615039233809423, 0.175158973142859, 0.22751977723027442]\n",
      "[0.10792705166350894, 0.06397836921107343, 0.05569869307268116, 0.02207687188403213, 0.021282098776123665, 0.036872067493538059, 0.011849217847260616, 0.0031630492178736152, 0.00027936631191508861, 0.0094460861251364509, 0.0095515905626966414, 0.039734911969601723, 0.14952992821365915]\n"
     ]
    },
    {
     "data": {
      "image/png": "[encoded data removed]",
      "text/plain": [
       "<matplotlib.figure.Figure at 0x1111cf190>"
      ]
     },
     "metadata": {},
     "output_type": "display_data"
    }
   ],
   "source": [
    "meanCoef =[np.mean(Transportation),np.mean(HR), np.mean(Society), np.mean(Sus), np.mean(Learn), np.mean(Recycle), \n",
    "            np.mean(Office), np.mean(Home), np.mean(NONE),  np.mean(Social),  np.mean(HW), np.mean(Volunteering), \n",
    "           np.mean(How)]\n",
    "\n",
    "stdCoef =[np.std(Transportation),np.std(HR), np.std(Society), np.std(Sus), np.std(Learn), np.std(Recycle), \n",
    "            np.std(Office), np.std(Home), np.std(NONE),  np.std(Social),  np.std(HW), np.std(Volunteering), \n",
    "           np.std(How)]\n",
    "print meanCoef\n",
    "print stdCoef\n",
    "ind = np.arange(13)\n",
    "width = 0.5\n",
    "fig, ax = plt.subplots(figsize=(10,10))\n",
    "ax.set_yticks(ind)\n",
    "ax.barh(ind, meanCoef, width, color='g', xerr=stdCoef)\n",
    "ax.set_yticklabels([\"Tranportation\", 'HR','Society','Sustainable Consumption',  'Learn','Recycle',\n",
    "                    'Office', 'Home','None', 'Social','Health & Wellness','Volunteering', 'How to Use WeSpire'], \n",
    "                  fontsize = 15)\n",
    "ax.set_xlabel('Coefficient',fontsize = 15)\n",
    "ax.tick_params(axis='both', labelsize = 15)\n",
    "\n"
   ]
  }
 ],
 "metadata": {
  "kernelspec": {
   "display_name": "Python 2",
   "language": "python",
   "name": "python2"
  },
  "language_info": {
   "codemirror_mode": {
    "name": "ipython",
    "version": 2
   },
   "file_extension": ".py",
   "mimetype": "text/x-python",
   "name": "python",
   "nbconvert_exporter": "python",
   "pygments_lexer": "ipython2",
   "version": "2.7.13"
  }
 },
 "nbformat": 4,
 "nbformat_minor": 2
}
